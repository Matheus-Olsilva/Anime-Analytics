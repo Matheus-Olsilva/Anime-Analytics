{
 "cells": [
  {
   "cell_type": "markdown",
   "metadata": {},
   "source": [
    "### Anime Analytics"
   ]
  },
  {
   "cell_type": "markdown",
   "metadata": {},
   "source": [
    "#### Conteúdo\n",
    "> Este conjunto de dados que contém informações detalhadas de mais de 20 mil animes listados no myanimelist com as seguintes características:\n",
    "\n",
    "* title: título do anime\n",
    "* episodes: número de episódios\n",
    "* status: se o anime ainda está sendo exibido ou se já terminou a exibição\n",
    "* theme: o tema do anime\n",
    "* demographic: o público-alvo do anime (por exemplo, shonen, shojo, seinen e josei)\n",
    "* genres: gêneros do anime\n",
    "* type: se o anime é uma série de TV, filme, etc.\n",
    "* favorites: o número de usuários autenticados que marcaram o anime como favorito\n",
    "* popularity: a classificação do anime com base no total de membros em comparação com outros animes\n",
    "* rank: a classificação do anime com base na pontuação em comparação com outros animes\n",
    "* score: a pontuação média de todos os usuários autenticados que fizeram uma votação pública sobre o anime\n",
    "* members: número total de pessoas que adicionaram o anime à sua lista pessoal de animes (por exemplo, completado, assistindo, pausado, abandonado)\n",
    "* synopsis: enredo do anime\n",
    "* aired: quando o anime foi exibido\n",
    "* duration: a duração do anime (por exemplo, duração por episódio)\n",
    "* premiered: a temporada em que o anime foi exibido\n",
    "* studio: o estúdio que produz o anime"
   ]
  },
  {
   "cell_type": "code",
   "execution_count": 253,
   "metadata": {},
   "outputs": [],
   "source": [
    "# Importando Bibliotecas\n",
    "import numpy as np\n",
    "import pandas as pd\n",
    "import matplotlib.pyplot as plt\n",
    "import seaborn as sns\n",
    "import scipy\n",
    "from scipy.stats import normaltest\n",
    "from scipy.stats import kstest\n",
    "import plotly.express as px\n",
    "\n",
    "# Ignore Warning\n",
    "import sys\n",
    "import warnings\n",
    "if not sys.warnoptions:\n",
    "    warnings.simplefilter(\"ignore\")"
   ]
  },
  {
   "cell_type": "code",
   "execution_count": 254,
   "metadata": {},
   "outputs": [],
   "source": [
    "# Importando Dataset\n",
    "dados = pd.read_csv('dados/mal_anime.csv')"
   ]
  },
  {
   "cell_type": "markdown",
   "metadata": {},
   "source": [
    "#### Análise Exploratória dos dados"
   ]
  },
  {
   "cell_type": "code",
   "execution_count": 255,
   "metadata": {},
   "outputs": [
    {
     "data": {
      "text/plain": [
       "(24262, 18)"
      ]
     },
     "execution_count": 255,
     "metadata": {},
     "output_type": "execute_result"
    }
   ],
   "source": [
    "dados.shape"
   ]
  },
  {
   "cell_type": "code",
   "execution_count": 256,
   "metadata": {},
   "outputs": [
    {
     "data": {
      "text/html": [
       "<div>\n",
       "<style scoped>\n",
       "    .dataframe tbody tr th:only-of-type {\n",
       "        vertical-align: middle;\n",
       "    }\n",
       "\n",
       "    .dataframe tbody tr th {\n",
       "        vertical-align: top;\n",
       "    }\n",
       "\n",
       "    .dataframe thead th {\n",
       "        text-align: right;\n",
       "    }\n",
       "</style>\n",
       "<table border=\"1\" class=\"dataframe\">\n",
       "  <thead>\n",
       "    <tr style=\"text-align: right;\">\n",
       "      <th></th>\n",
       "      <th>Unnamed: 0</th>\n",
       "      <th>title</th>\n",
       "      <th>episodes</th>\n",
       "      <th>status</th>\n",
       "      <th>theme</th>\n",
       "      <th>demographic</th>\n",
       "      <th>genres</th>\n",
       "      <th>type</th>\n",
       "      <th>favorites</th>\n",
       "      <th>popularity</th>\n",
       "      <th>rank</th>\n",
       "      <th>score</th>\n",
       "      <th>members</th>\n",
       "      <th>synopsis</th>\n",
       "      <th>aired</th>\n",
       "      <th>duration</th>\n",
       "      <th>premiered</th>\n",
       "      <th>studios</th>\n",
       "    </tr>\n",
       "  </thead>\n",
       "  <tbody>\n",
       "    <tr>\n",
       "      <th>0</th>\n",
       "      <td>0</td>\n",
       "      <td>Fullmetal Alchemist: Brotherhood</td>\n",
       "      <td>64</td>\n",
       "      <td>Finished Airing</td>\n",
       "      <td>Military</td>\n",
       "      <td>Shounen</td>\n",
       "      <td>Action,Adventure,Drama,Fantasy,</td>\n",
       "      <td>TV</td>\n",
       "      <td>218,277</td>\n",
       "      <td>#3</td>\n",
       "      <td>#1</td>\n",
       "      <td>9.10</td>\n",
       "      <td>3,190,961</td>\n",
       "      <td>After a horrific alchemy experiment goes wrong...</td>\n",
       "      <td>Apr 5, 2009 to Jul 4, 2010</td>\n",
       "      <td>24 min. per ep.</td>\n",
       "      <td>Spring 2009</td>\n",
       "      <td>Bones</td>\n",
       "    </tr>\n",
       "    <tr>\n",
       "      <th>1</th>\n",
       "      <td>1</td>\n",
       "      <td>Steins;Gate</td>\n",
       "      <td>24</td>\n",
       "      <td>Finished Airing</td>\n",
       "      <td>Unknown</td>\n",
       "      <td>Unknown</td>\n",
       "      <td>Drama,Sci-Fi,Suspense,</td>\n",
       "      <td>TV</td>\n",
       "      <td>183,596</td>\n",
       "      <td>#13</td>\n",
       "      <td>#2</td>\n",
       "      <td>9.07</td>\n",
       "      <td>2,452,142</td>\n",
       "      <td>Eccentric scientist Rintarou Okabe has a never...</td>\n",
       "      <td>Apr 6, 2011 to Sep 14, 2011</td>\n",
       "      <td>24 min. per ep.</td>\n",
       "      <td>Spring 2011</td>\n",
       "      <td>White Fox</td>\n",
       "    </tr>\n",
       "    <tr>\n",
       "      <th>2</th>\n",
       "      <td>2</td>\n",
       "      <td>Bleach: Sennen Kessen-hen</td>\n",
       "      <td>13</td>\n",
       "      <td>Finished Airing</td>\n",
       "      <td>Unknown</td>\n",
       "      <td>Shounen</td>\n",
       "      <td>Action,Adventure,Fantasy,</td>\n",
       "      <td>TV</td>\n",
       "      <td>18,421</td>\n",
       "      <td>#458</td>\n",
       "      <td>#3</td>\n",
       "      <td>9.06</td>\n",
       "      <td>455,428</td>\n",
       "      <td>Substitute Soul Reaper Ichigo Kurosaki spends ...</td>\n",
       "      <td>Oct 11, 2022 to Dec 27, 2022</td>\n",
       "      <td>24 min. per ep.</td>\n",
       "      <td>Fall 2022</td>\n",
       "      <td>Pierrot</td>\n",
       "    </tr>\n",
       "    <tr>\n",
       "      <th>3</th>\n",
       "      <td>3</td>\n",
       "      <td>Gintama°</td>\n",
       "      <td>51</td>\n",
       "      <td>Finished Airing</td>\n",
       "      <td>Unknown</td>\n",
       "      <td>Shounen</td>\n",
       "      <td>Action,Comedy,Sci-Fi,</td>\n",
       "      <td>TV</td>\n",
       "      <td>16,042</td>\n",
       "      <td>#332</td>\n",
       "      <td>#4</td>\n",
       "      <td>9.06</td>\n",
       "      <td>599,235</td>\n",
       "      <td>Gintoki, Shinpachi, and Kagura return as the f...</td>\n",
       "      <td>Apr 8, 2015 to Mar 30, 2016</td>\n",
       "      <td>24 min. per ep.</td>\n",
       "      <td>Spring 2015</td>\n",
       "      <td>Bandai Namco Pictures</td>\n",
       "    </tr>\n",
       "    <tr>\n",
       "      <th>4</th>\n",
       "      <td>4</td>\n",
       "      <td>Kaguya-sama wa Kokurasetai: Ultra Romantic</td>\n",
       "      <td>13</td>\n",
       "      <td>Finished Airing</td>\n",
       "      <td>School</td>\n",
       "      <td>Seinen</td>\n",
       "      <td>Comedy,Romance,</td>\n",
       "      <td>TV</td>\n",
       "      <td>29,397</td>\n",
       "      <td>#193</td>\n",
       "      <td>#5</td>\n",
       "      <td>9.05</td>\n",
       "      <td>832,346</td>\n",
       "      <td>The elite members of Shuchiin Academy's studen...</td>\n",
       "      <td>Apr 9, 2022 to Jun 25, 2022</td>\n",
       "      <td>23 min. per ep.</td>\n",
       "      <td>Spring 2022</td>\n",
       "      <td>A-1 Pictures</td>\n",
       "    </tr>\n",
       "  </tbody>\n",
       "</table>\n",
       "</div>"
      ],
      "text/plain": [
       "   Unnamed: 0                                       title episodes  \\\n",
       "0           0            Fullmetal Alchemist: Brotherhood       64   \n",
       "1           1                                 Steins;Gate       24   \n",
       "2           2                   Bleach: Sennen Kessen-hen       13   \n",
       "3           3                                    Gintama°       51   \n",
       "4           4  Kaguya-sama wa Kokurasetai: Ultra Romantic       13   \n",
       "\n",
       "            status     theme demographic                           genres  \\\n",
       "0  Finished Airing  Military     Shounen  Action,Adventure,Drama,Fantasy,   \n",
       "1  Finished Airing   Unknown     Unknown           Drama,Sci-Fi,Suspense,   \n",
       "2  Finished Airing   Unknown     Shounen        Action,Adventure,Fantasy,   \n",
       "3  Finished Airing   Unknown     Shounen            Action,Comedy,Sci-Fi,   \n",
       "4  Finished Airing    School      Seinen                  Comedy,Romance,   \n",
       "\n",
       "  type favorites popularity rank  score    members  \\\n",
       "0   TV   218,277         #3   #1   9.10  3,190,961   \n",
       "1   TV   183,596        #13   #2   9.07  2,452,142   \n",
       "2   TV    18,421       #458   #3   9.06    455,428   \n",
       "3   TV    16,042       #332   #4   9.06    599,235   \n",
       "4   TV    29,397       #193   #5   9.05    832,346   \n",
       "\n",
       "                                            synopsis  \\\n",
       "0  After a horrific alchemy experiment goes wrong...   \n",
       "1  Eccentric scientist Rintarou Okabe has a never...   \n",
       "2  Substitute Soul Reaper Ichigo Kurosaki spends ...   \n",
       "3  Gintoki, Shinpachi, and Kagura return as the f...   \n",
       "4  The elite members of Shuchiin Academy's studen...   \n",
       "\n",
       "                          aired         duration    premiered  \\\n",
       "0    Apr 5, 2009 to Jul 4, 2010  24 min. per ep.  Spring 2009   \n",
       "1   Apr 6, 2011 to Sep 14, 2011  24 min. per ep.  Spring 2011   \n",
       "2  Oct 11, 2022 to Dec 27, 2022  24 min. per ep.    Fall 2022   \n",
       "3   Apr 8, 2015 to Mar 30, 2016  24 min. per ep.  Spring 2015   \n",
       "4   Apr 9, 2022 to Jun 25, 2022  23 min. per ep.  Spring 2022   \n",
       "\n",
       "                 studios  \n",
       "0                  Bones  \n",
       "1              White Fox  \n",
       "2                Pierrot  \n",
       "3  Bandai Namco Pictures  \n",
       "4           A-1 Pictures  "
      ]
     },
     "execution_count": 256,
     "metadata": {},
     "output_type": "execute_result"
    }
   ],
   "source": [
    "dados.head()"
   ]
  },
  {
   "cell_type": "code",
   "execution_count": 257,
   "metadata": {},
   "outputs": [
    {
     "data": {
      "text/plain": [
       "Unnamed: 0       int64\n",
       "title           object\n",
       "episodes        object\n",
       "status          object\n",
       "theme           object\n",
       "demographic     object\n",
       "genres          object\n",
       "type            object\n",
       "favorites       object\n",
       "popularity      object\n",
       "rank            object\n",
       "score          float64\n",
       "members         object\n",
       "synopsis        object\n",
       "aired           object\n",
       "duration        object\n",
       "premiered       object\n",
       "studios         object\n",
       "dtype: object"
      ]
     },
     "execution_count": 257,
     "metadata": {},
     "output_type": "execute_result"
    }
   ],
   "source": [
    "dados.dtypes"
   ]
  },
  {
   "cell_type": "code",
   "execution_count": 258,
   "metadata": {},
   "outputs": [
    {
     "name": "stdout",
     "output_type": "stream",
     "text": [
      "<class 'pandas.core.frame.DataFrame'>\n",
      "RangeIndex: 24262 entries, 0 to 24261\n",
      "Data columns (total 18 columns):\n",
      " #   Column       Non-Null Count  Dtype  \n",
      "---  ------       --------------  -----  \n",
      " 0   Unnamed: 0   24262 non-null  int64  \n",
      " 1   title        24262 non-null  object \n",
      " 2   episodes     24262 non-null  object \n",
      " 3   status       24262 non-null  object \n",
      " 4   theme        24262 non-null  object \n",
      " 5   demographic  24262 non-null  object \n",
      " 6   genres       24262 non-null  object \n",
      " 7   type         24262 non-null  object \n",
      " 8   favorites    24262 non-null  object \n",
      " 9   popularity   24262 non-null  object \n",
      " 10  rank         20197 non-null  object \n",
      " 11  score        15294 non-null  float64\n",
      " 12  members      24262 non-null  object \n",
      " 13  synopsis     24262 non-null  object \n",
      " 14  aired        24262 non-null  object \n",
      " 15  duration     24262 non-null  object \n",
      " 16  premiered    24262 non-null  object \n",
      " 17  studios      24262 non-null  object \n",
      "dtypes: float64(1), int64(1), object(16)\n",
      "memory usage: 3.3+ MB\n"
     ]
    }
   ],
   "source": [
    "dados.info()"
   ]
  },
  {
   "cell_type": "code",
   "execution_count": 259,
   "metadata": {},
   "outputs": [],
   "source": [
    "# Removendo a \"#\" \n",
    "dados['rank'] = dados['rank'].str.lstrip('#')"
   ]
  },
  {
   "cell_type": "code",
   "execution_count": 260,
   "metadata": {},
   "outputs": [],
   "source": [
    "# Removendo a \"#\"\n",
    "dados['popularity'] = dados['popularity'].str.lstrip('#')"
   ]
  },
  {
   "cell_type": "code",
   "execution_count": 261,
   "metadata": {},
   "outputs": [],
   "source": [
    "# Removendo \",\"\n",
    "dados['members'] = dados['members'].str.replace(\",\",'')"
   ]
  },
  {
   "cell_type": "code",
   "execution_count": 262,
   "metadata": {},
   "outputs": [],
   "source": [
    "# Removendo \",\"\n",
    "dados['favorites'] = dados['favorites'].str.replace(\",\",'')"
   ]
  },
  {
   "cell_type": "code",
   "execution_count": 263,
   "metadata": {},
   "outputs": [
    {
     "name": "stdout",
     "output_type": "stream",
     "text": [
      "['24 min. per ep.' '23 min. per ep.' '1 hr. 1 min. per ep.'\n",
      " '1 hr. 44 min.' '26 min. per ep.' '2 hr. 10 min.' '25 min. per ep.'\n",
      " '1 hr. 50 min.' '2 hr. 20 min.' '22 min. per ep.' '30 min. per ep.'\n",
      " '1 hr. 36 min.' '1 hr. 46 min.' '1 hr. 23 min.' '2 hr. 4 min.'\n",
      " '29 min. per ep.' '24 min.' '2 hr. 2 min.' '2 hr. 13 min.'\n",
      " '1 hr. 59 min.' '1 hr. 45 min.' '1 hr. 56 min.' '2 hr. 41 min.'\n",
      " '2 hr. 35 min.' '1 hr. 30 min.' '47 min.' '1 hr. 57 min.' '1 hr. 4 min.'\n",
      " '2 hr. 5 min.' '1 hr. 48 min.' '1 hr. 26 min.' '1 hr. 21 min.' '2 hr.'\n",
      " '45 min.' '1 hr. 54 min.' '1 hr. 13 min.' '1 hr. 35 min.' '1 hr. 28 min.'\n",
      " '9 min.' '28 min. per ep.' '1 hr. 36 min. per ep.' '5 min. per ep.'\n",
      " '27 min. per ep.' '1 hr. 31 min.' '1 hr. 38 min.' '2 hr. 1 min.'\n",
      " '22 min.' '1 hr. 55 min.' '1 hr. 49 min.' '16 min. per ep.' '10 min.'\n",
      " '49 min. per ep.' '1 hr. 11 min. per ep.' '34 min.' '2 hr. 15 min.'\n",
      " '50 min. per ep.' '55 min.' '1 hr. 47 min.' '1 hr. 52 min.' '1 hr.'\n",
      " '11 min.' '1 hr. 42 min.' '1 hr. 32 min.' '1 hr. 22 min.' '1 hr. 43 min.'\n",
      " '1 hr. 40 min.' '1 hr. 11 min.' '1 hr. 33 min.' '54 min.' '1 hr. 1 min.'\n",
      " '1 min.' '2 hr. 48 min.' '1 hr. 51 min.' '1 hr. 41 min.' '2 hr. 17 min.'\n",
      " '35 min. per ep.' '20 min. per ep.' '25 min.' '1 hr. 34 min.' '48 min.'\n",
      " '12 min.' '1 hr. 39 min.' '51 min.' '49 min.' '59 min.' '1 hr. 29 min.'\n",
      " '1 hr. 53 min.' '2 hr. 29 min.' '2 hr. 6 min.' '57 min.'\n",
      " '14 min. per ep.' '1 hr. 2 min. per ep.' '23 min.' '32 min. per ep.'\n",
      " '32 min.' '14 min.' '2 hr. 40 min.' '58 min. per ep.' '43 min. per ep.'\n",
      " '28 min.' '1 hr. 10 min.' '33 min. per ep.' '18 min. per ep.'\n",
      " '2 min. per ep.' '1 hr. 37 min.' '30 min.' '15 min. per ep.'\n",
      " '1 min. per ep.' '42 min. per ep.' '2 min.' '11 min. per ep.' '18 min.'\n",
      " '1 hr. 17 min.' '1 hr. 9 min.' '27 min.' '12 min. per ep.' '29 min.'\n",
      " '21 min. per ep.' '46 min.' '2 hr. 16 min.' '58 min.' '39 min.'\n",
      " '4 min. per ep.' '53 min.' '50 min.' '1 hr. 3 min.' '1 hr. 6 min.'\n",
      " '3 min. per ep.' '13 min. per ep.' '26 min.' '42 min.' '46 min. per ep.'\n",
      " '1 hr. 12 min.' '38 sec. per ep.' '19 min. per ep.' '1 hr. 2 min.'\n",
      " '1 hr. 18 min.' '21 min.' '41 min.' '15 min.' '2 hr. 7 min.' 'Unknown'\n",
      " '52 min.' '45 min. per ep.' '1 hr. 58 min.' '1 hr. 27 min.'\n",
      " '1 hr. 20 min.' '1 hr. 15 min.' '1 hr. 7 min.' '38 min.'\n",
      " '39 min. per ep.' '37 min. per ep.' '1 hr. 16 min.'\n",
      " '1 hr. 52 min. per ep.' '31 min.' '54 min. per ep.' '7 min. per ep.'\n",
      " '2 hr. 12 min.' '20 min.' '1 hr. 25 min.' '40 min.' '3 min.'\n",
      " '8 min. per ep.' '6 min. per ep.' '16 min.' '2 hr. 3 min.' '2 hr. 8 min.'\n",
      " '17 min. per ep.' '1 hr. 39 min. per ep.' '31 min. per ep.'\n",
      " '1 hr. 24 min.' '15 sec.' '13 min.' '8 min.' '2 hr. 21 min.'\n",
      " '1 hr. 5 min. per ep.' '56 min.' '1 hr. 19 min.' '4 min.' '5 min.'\n",
      " '1 hr. 38 min. per ep.' '1 hr. 8 min.' '10 min. per ep.' '6 min.'\n",
      " '1 hr. per ep.' '1 hr. 30 min. per ep.' '44 min.' '40 sec. per ep.'\n",
      " '53 min. per ep.' '33 min.' '1 hr. 5 min.' '41 min. per ep.' '43 min.'\n",
      " '35 min.' '30 sec. per ep.' '1 hr. 35 min. per ep.' '34 min. per ep.'\n",
      " '30 sec.' '37 min.' '2 hr. 14 min.' '36 min.' '1 hr. 14 min.' '19 min.'\n",
      " '47 min. per ep.' '48 min. per ep.' '9 min. per ep.' '33 sec. per ep.'\n",
      " '2 hr. 16 min. per ep.' '7 min.' '2 hr. 32 min.' '17 min.'\n",
      " '2 hr. 33 min.' '40 min. per ep.' '38 min. per ep.' '20 sec. per ep.'\n",
      " '2 hr. 43 min.' '2 hr. 11 min.' '36 min. per ep.' '1 hr. 17 min. per ep.'\n",
      " '1 hr. 7 min. per ep.' '58 sec.' '44 min. per ep.' '55 min. per ep.'\n",
      " '31 sec. per ep.' '20 sec.' '51 min. per ep.' '34 sec. per ep.' '31 sec.'\n",
      " '50 sec. per ep.' '2 hr. 30 min.' '56 sec. per ep.' '2 hr. 28 min.'\n",
      " '1 hr. 15 min. per ep.' '39 sec. per ep.' '56 min. per ep.'\n",
      " '57 sec. per ep.' '39 sec.' '1 hr. 12 min. per ep.' '42 sec.'\n",
      " '2 hr. 27 min.' '26 sec. per ep.' '52 min. per ep.'\n",
      " '1 hr. 23 min. per ep.' '28 sec.' '1 hr. 14 min. per ep.' '41 sec.'\n",
      " '16 sec.' '32 sec. per ep.' '57 min. per ep.' '21 sec.' '53 sec. per ep.'\n",
      " '44 sec. per ep.' '51 sec. per ep.' '45 sec. per ep.' '12 sec. per ep.'\n",
      " '55 sec. per ep.' '36 sec. per ep.' '22 sec. per ep.' '25 sec. per ep.'\n",
      " '35 sec.' '32 sec.' '46 sec.' '1 hr. 16 min. per ep.' '29 sec.'\n",
      " '1 hr. 27 min. per ep.' '28 sec. per ep.' '55 sec.' '41 sec. per ep.'\n",
      " '58 sec. per ep.' '45 sec.' '49 sec. per ep.' '37 sec. per ep.' '25 sec.'\n",
      " '35 sec. per ep.' '37 sec.' '42 sec. per ep.' '48 sec. per ep.'\n",
      " '16 sec. per ep.' '50 sec.' '23 sec.' '54 sec.' '47 sec.' '34 sec.'\n",
      " '33 sec.' '15 sec. per ep.' '21 sec. per ep.' '3 sec.' '6 sec. per ep.'\n",
      " '27 sec.' '10 sec.' '24 sec. per ep.' '46 sec. per ep.' '57 sec.'\n",
      " '52 sec.' '52 sec. per ep.' '2 hr. 19 min.' '40 sec.' '19 sec. per ep.'\n",
      " '44 sec.' '12 sec.' '14 sec. per ep.' '38 sec.' '14 sec.'\n",
      " '18 sec. per ep.' '29 sec. per ep.' '10 sec. per ep.' '36 sec.' '49 sec.'\n",
      " '22 sec.' '43 sec.' '17 sec.' '23 sec. per ep.' '13 sec.' '48 sec.'\n",
      " '7 sec.' '2 hr. 47 min.' '51 sec.' '43 sec. per ep.'\n",
      " '1 hr. 20 min. per ep.' '24 sec.' '18 sec.' '7 sec. per ep.'\n",
      " '54 sec. per ep.' '19 sec.' '2 hr. 9 min.' '2 hr. 31 min.' '56 sec.']\n"
     ]
    }
   ],
   "source": [
    "#Verificando dados unicos da variável Duration\n",
    "print(dados['duration'].unique())"
   ]
  },
  {
   "cell_type": "markdown",
   "metadata": {},
   "source": [
    "Precisamos normalizar os dados para minutos:"
   ]
  },
  {
   "cell_type": "code",
   "execution_count": 264,
   "metadata": {},
   "outputs": [],
   "source": [
    "# Função para converter a duração para minutos\n",
    "def duration_to_minutes(duration):\n",
    "    if 'hr' in duration:\n",
    "        hours = int(duration.split(' hr')[0])\n",
    "    else:\n",
    "        hours = 0\n",
    "\n",
    "    if 'min' in duration:\n",
    "        mins = int(duration.split(' min')[0].split()[-1]) # Tratar casos como '24 min. per ep.'\n",
    "    else:\n",
    "        mins = 0\n",
    "\n",
    "    if 'sec' in duration:\n",
    "        if 'per ep' in duration:\n",
    "            seconds = int(duration.split(' sec. per ep.')[0].split()[-1]) # Tratar casos como '43 sec. per ep.'\n",
    "        else:\n",
    "            seconds = int(duration.split(' sec')[0].split()[-1]) # Tratar casos como '22 sec.'\n",
    "    else:\n",
    "        seconds = 0\n",
    "\n",
    "    return hours * 60 + mins + seconds // 60\n",
    "\n",
    "# Aplicar a função de conversão à coluna 'duration'\n",
    "dados['duration'] = dados['duration'].apply(duration_to_minutes)\n"
   ]
  },
  {
   "cell_type": "code",
   "execution_count": 265,
   "metadata": {},
   "outputs": [
    {
     "data": {
      "text/html": [
       "<div>\n",
       "<style scoped>\n",
       "    .dataframe tbody tr th:only-of-type {\n",
       "        vertical-align: middle;\n",
       "    }\n",
       "\n",
       "    .dataframe tbody tr th {\n",
       "        vertical-align: top;\n",
       "    }\n",
       "\n",
       "    .dataframe thead th {\n",
       "        text-align: right;\n",
       "    }\n",
       "</style>\n",
       "<table border=\"1\" class=\"dataframe\">\n",
       "  <thead>\n",
       "    <tr style=\"text-align: right;\">\n",
       "      <th></th>\n",
       "      <th>Unnamed: 0</th>\n",
       "      <th>title</th>\n",
       "      <th>episodes</th>\n",
       "      <th>status</th>\n",
       "      <th>theme</th>\n",
       "      <th>demographic</th>\n",
       "      <th>genres</th>\n",
       "      <th>type</th>\n",
       "      <th>favorites</th>\n",
       "      <th>popularity</th>\n",
       "      <th>rank</th>\n",
       "      <th>score</th>\n",
       "      <th>members</th>\n",
       "      <th>synopsis</th>\n",
       "      <th>aired</th>\n",
       "      <th>duration</th>\n",
       "      <th>premiered</th>\n",
       "      <th>studios</th>\n",
       "    </tr>\n",
       "  </thead>\n",
       "  <tbody>\n",
       "    <tr>\n",
       "      <th>0</th>\n",
       "      <td>0</td>\n",
       "      <td>Fullmetal Alchemist: Brotherhood</td>\n",
       "      <td>64</td>\n",
       "      <td>Finished Airing</td>\n",
       "      <td>Military</td>\n",
       "      <td>Shounen</td>\n",
       "      <td>Action,Adventure,Drama,Fantasy,</td>\n",
       "      <td>TV</td>\n",
       "      <td>218277</td>\n",
       "      <td>3</td>\n",
       "      <td>1</td>\n",
       "      <td>9.10</td>\n",
       "      <td>3190961</td>\n",
       "      <td>After a horrific alchemy experiment goes wrong...</td>\n",
       "      <td>Apr 5, 2009 to Jul 4, 2010</td>\n",
       "      <td>24</td>\n",
       "      <td>Spring 2009</td>\n",
       "      <td>Bones</td>\n",
       "    </tr>\n",
       "    <tr>\n",
       "      <th>1</th>\n",
       "      <td>1</td>\n",
       "      <td>Steins;Gate</td>\n",
       "      <td>24</td>\n",
       "      <td>Finished Airing</td>\n",
       "      <td>Unknown</td>\n",
       "      <td>Unknown</td>\n",
       "      <td>Drama,Sci-Fi,Suspense,</td>\n",
       "      <td>TV</td>\n",
       "      <td>183596</td>\n",
       "      <td>13</td>\n",
       "      <td>2</td>\n",
       "      <td>9.07</td>\n",
       "      <td>2452142</td>\n",
       "      <td>Eccentric scientist Rintarou Okabe has a never...</td>\n",
       "      <td>Apr 6, 2011 to Sep 14, 2011</td>\n",
       "      <td>24</td>\n",
       "      <td>Spring 2011</td>\n",
       "      <td>White Fox</td>\n",
       "    </tr>\n",
       "    <tr>\n",
       "      <th>2</th>\n",
       "      <td>2</td>\n",
       "      <td>Bleach: Sennen Kessen-hen</td>\n",
       "      <td>13</td>\n",
       "      <td>Finished Airing</td>\n",
       "      <td>Unknown</td>\n",
       "      <td>Shounen</td>\n",
       "      <td>Action,Adventure,Fantasy,</td>\n",
       "      <td>TV</td>\n",
       "      <td>18421</td>\n",
       "      <td>458</td>\n",
       "      <td>3</td>\n",
       "      <td>9.06</td>\n",
       "      <td>455428</td>\n",
       "      <td>Substitute Soul Reaper Ichigo Kurosaki spends ...</td>\n",
       "      <td>Oct 11, 2022 to Dec 27, 2022</td>\n",
       "      <td>24</td>\n",
       "      <td>Fall 2022</td>\n",
       "      <td>Pierrot</td>\n",
       "    </tr>\n",
       "    <tr>\n",
       "      <th>3</th>\n",
       "      <td>3</td>\n",
       "      <td>Gintama°</td>\n",
       "      <td>51</td>\n",
       "      <td>Finished Airing</td>\n",
       "      <td>Unknown</td>\n",
       "      <td>Shounen</td>\n",
       "      <td>Action,Comedy,Sci-Fi,</td>\n",
       "      <td>TV</td>\n",
       "      <td>16042</td>\n",
       "      <td>332</td>\n",
       "      <td>4</td>\n",
       "      <td>9.06</td>\n",
       "      <td>599235</td>\n",
       "      <td>Gintoki, Shinpachi, and Kagura return as the f...</td>\n",
       "      <td>Apr 8, 2015 to Mar 30, 2016</td>\n",
       "      <td>24</td>\n",
       "      <td>Spring 2015</td>\n",
       "      <td>Bandai Namco Pictures</td>\n",
       "    </tr>\n",
       "    <tr>\n",
       "      <th>4</th>\n",
       "      <td>4</td>\n",
       "      <td>Kaguya-sama wa Kokurasetai: Ultra Romantic</td>\n",
       "      <td>13</td>\n",
       "      <td>Finished Airing</td>\n",
       "      <td>School</td>\n",
       "      <td>Seinen</td>\n",
       "      <td>Comedy,Romance,</td>\n",
       "      <td>TV</td>\n",
       "      <td>29397</td>\n",
       "      <td>193</td>\n",
       "      <td>5</td>\n",
       "      <td>9.05</td>\n",
       "      <td>832346</td>\n",
       "      <td>The elite members of Shuchiin Academy's studen...</td>\n",
       "      <td>Apr 9, 2022 to Jun 25, 2022</td>\n",
       "      <td>23</td>\n",
       "      <td>Spring 2022</td>\n",
       "      <td>A-1 Pictures</td>\n",
       "    </tr>\n",
       "  </tbody>\n",
       "</table>\n",
       "</div>"
      ],
      "text/plain": [
       "   Unnamed: 0                                       title episodes  \\\n",
       "0           0            Fullmetal Alchemist: Brotherhood       64   \n",
       "1           1                                 Steins;Gate       24   \n",
       "2           2                   Bleach: Sennen Kessen-hen       13   \n",
       "3           3                                    Gintama°       51   \n",
       "4           4  Kaguya-sama wa Kokurasetai: Ultra Romantic       13   \n",
       "\n",
       "            status     theme demographic                           genres  \\\n",
       "0  Finished Airing  Military     Shounen  Action,Adventure,Drama,Fantasy,   \n",
       "1  Finished Airing   Unknown     Unknown           Drama,Sci-Fi,Suspense,   \n",
       "2  Finished Airing   Unknown     Shounen        Action,Adventure,Fantasy,   \n",
       "3  Finished Airing   Unknown     Shounen            Action,Comedy,Sci-Fi,   \n",
       "4  Finished Airing    School      Seinen                  Comedy,Romance,   \n",
       "\n",
       "  type favorites popularity rank  score  members  \\\n",
       "0   TV    218277          3    1   9.10  3190961   \n",
       "1   TV    183596         13    2   9.07  2452142   \n",
       "2   TV     18421        458    3   9.06   455428   \n",
       "3   TV     16042        332    4   9.06   599235   \n",
       "4   TV     29397        193    5   9.05   832346   \n",
       "\n",
       "                                            synopsis  \\\n",
       "0  After a horrific alchemy experiment goes wrong...   \n",
       "1  Eccentric scientist Rintarou Okabe has a never...   \n",
       "2  Substitute Soul Reaper Ichigo Kurosaki spends ...   \n",
       "3  Gintoki, Shinpachi, and Kagura return as the f...   \n",
       "4  The elite members of Shuchiin Academy's studen...   \n",
       "\n",
       "                          aired  duration    premiered                studios  \n",
       "0    Apr 5, 2009 to Jul 4, 2010        24  Spring 2009                  Bones  \n",
       "1   Apr 6, 2011 to Sep 14, 2011        24  Spring 2011              White Fox  \n",
       "2  Oct 11, 2022 to Dec 27, 2022        24    Fall 2022                Pierrot  \n",
       "3   Apr 8, 2015 to Mar 30, 2016        24  Spring 2015  Bandai Namco Pictures  \n",
       "4   Apr 9, 2022 to Jun 25, 2022        23  Spring 2022           A-1 Pictures  "
      ]
     },
     "execution_count": 265,
     "metadata": {},
     "output_type": "execute_result"
    }
   ],
   "source": [
    "dados.head()"
   ]
  },
  {
   "cell_type": "markdown",
   "metadata": {},
   "source": [
    "#### Verificando valores Ausentes, Variáveis Númericas"
   ]
  },
  {
   "cell_type": "code",
   "execution_count": 266,
   "metadata": {},
   "outputs": [
    {
     "data": {
      "text/plain": [
       "Unnamed: 0        0\n",
       "title             0\n",
       "episodes          0\n",
       "status            0\n",
       "theme             0\n",
       "demographic       0\n",
       "genres            0\n",
       "type              0\n",
       "favorites         0\n",
       "popularity        0\n",
       "rank           4065\n",
       "score          8968\n",
       "members           0\n",
       "synopsis          0\n",
       "aired             0\n",
       "duration          0\n",
       "premiered         0\n",
       "studios           0\n",
       "dtype: int64"
      ]
     },
     "execution_count": 266,
     "metadata": {},
     "output_type": "execute_result"
    }
   ],
   "source": [
    "dados.isnull().sum()"
   ]
  },
  {
   "cell_type": "code",
   "execution_count": 267,
   "metadata": {},
   "outputs": [
    {
     "data": {
      "text/plain": [
       "Unnamed: 0      0.000000\n",
       "title           0.000000\n",
       "episodes        0.000000\n",
       "status          0.000000\n",
       "theme           0.000000\n",
       "demographic     0.000000\n",
       "genres          0.000000\n",
       "type            0.000000\n",
       "favorites       0.000000\n",
       "popularity      0.000000\n",
       "rank           16.754596\n",
       "score          36.963152\n",
       "members         0.000000\n",
       "synopsis        0.000000\n",
       "aired           0.000000\n",
       "duration        0.000000\n",
       "premiered       0.000000\n",
       "studios         0.000000\n",
       "dtype: float64"
      ]
     },
     "execution_count": 267,
     "metadata": {},
     "output_type": "execute_result"
    }
   ],
   "source": [
    "dados.isnull().mean()*100"
   ]
  },
  {
   "cell_type": "code",
   "execution_count": 268,
   "metadata": {},
   "outputs": [
    {
     "data": {
      "text/plain": [
       "Unnamed: 0       int64\n",
       "title           object\n",
       "episodes        object\n",
       "status          object\n",
       "theme           object\n",
       "demographic     object\n",
       "genres          object\n",
       "type            object\n",
       "favorites       object\n",
       "popularity      object\n",
       "rank            object\n",
       "score          float64\n",
       "members         object\n",
       "synopsis        object\n",
       "aired           object\n",
       "duration         int64\n",
       "premiered       object\n",
       "studios         object\n",
       "dtype: object"
      ]
     },
     "execution_count": 268,
     "metadata": {},
     "output_type": "execute_result"
    }
   ],
   "source": [
    "dados.dtypes"
   ]
  },
  {
   "cell_type": "markdown",
   "metadata": {},
   "source": [
    "> Podemos ver que para variáveis númericas, o pandas interpretou como texto, isso se deve ao fato de que \n",
    "existem dados como texto nas váriaveis, vamos tentar determinar"
   ]
  },
  {
   "cell_type": "code",
   "execution_count": 269,
   "metadata": {},
   "outputs": [
    {
     "name": "stdout",
     "output_type": "stream",
     "text": [
      "Dados únicos da coluna 'episodes': ['64' '24' '13' '51' '10' '2' '1' '148' '110' '12' '201' '22' '25' '7'\n",
      " '14' '11' '74' '26' '16' '75' '4' '47' 'Unknown' '43' '23' '27' '37' '39'\n",
      " '101' '99' '112' '6' '15' '120' '62' '8' '50' '20' '33' '40' '17' '94'\n",
      " '79' '3' '500' '52' '78' '77' '96' '70' '291' '170' '203' '38' '237'\n",
      " '102' '63' '21' '28' '5' '103' '45' '220' '9' '153' '109' '34' '104' '18'\n",
      " '366' '145' '69' '36' '30' '60' '49' '167' '178' '35' '1787' '113' '373'\n",
      " '54' '155' '161' '114' '100' '46' '97' '19' '195' '42' '358' '127' '61'\n",
      " '56' '31' '48' '142' '73' '136' '175' '115' '150' '53' '29' '147' '140'\n",
      " '124' '224' '76' '44' '154' '87' '131' '58' '130' '276' '93' '67' '128'\n",
      " '72' '384' '330' '86' '105' '172' '137' '41' '191' '92' '91' '65' '180'\n",
      " '182' '243' '59' '66' '192' '193' '55' '296' '156' '240' '68' '32' '694'\n",
      " '260' '258' '146' '95' '331' '164' '380' '117' '119' '108' '340' '80'\n",
      " '151' '214' '526' '88' '208' '83' '89' '163' '84' '143' '305' '98' '530'\n",
      " '200' '139' '510' '1471' '160' '293' '726' '312' '3057' '300' '1428'\n",
      " '1306' '215' '1006' '1274' '475' '1565' '773' '1818' '227' '365' '132'\n",
      " '57' '400' '624' '398' '90' '177' '284' '125' '144' '126' '418' '250'\n",
      " '138' '82' '118' '81' '196' '122' '744' '230' '325' '294' '85' '1664'\n",
      " '360' '245' '283' '71' '199' '121' '210' '212' '390' '367' '234' '1000'\n",
      " '425' '152' '229' '309' '364' '356' '267' '299' '225' '263' '431' '302'\n",
      " '499' '247' '217' '320' '135' '432' '800' '420' '116' '162']\n",
      "Dados únicos da coluna 'favorites': ['218277' '183596' '18421' ... '443' '543' '5926']\n",
      "Dados únicos da coluna 'popularity': ['3' '13' '458' ... '7223' '9668' '7719']\n",
      "Dados únicos da coluna 'rank': ['1' '2' '3' ... '20196' '20197' nan]\n",
      "Dados únicos da coluna 'members': ['3190961' '2452142' '455428' ... '22298' '6530' '6286']\n",
      "Dados únicos da coluna 'duration': [ 24  23  61 104  26 130  25 110 140  22  30  96 106  83 124  29 122 133\n",
      " 119 105 116 161 155  90  47 117  64 125 108  86  81 120  45 114  73  95\n",
      "  88   9  28   5  27  91  98 121 115 109  16  10  49  71  34 135  50  55\n",
      " 107 112  60  11 102  92  82 103 100  93  54   1 168 111 101 137  35  20\n",
      "  94  48  12  99  51  59  89 113 149 126  57  14  62  32 160  58  43  70\n",
      "  33  18   2  97  15  42  77  69  21  46 136  39   4  53  63  66   3  13\n",
      "  72   0  19  78  41 127  52 118  87  80  75  67  38  37  76  31   7 132\n",
      "  85  40   8   6 123 128  17  84 141  65  56  79  68  44 134  36  74 152\n",
      " 153 163 131 150 148 147 139 167 129 151]\n"
     ]
    }
   ],
   "source": [
    "dados_copia = dados.copy()\n",
    "\n",
    "lista_dados_unicos = ['episodes', 'favorites', 'popularity', 'rank', 'members', 'duration']\n",
    "\n",
    "for coluna in lista_dados_unicos:\n",
    "    dados_unicos = dados_copia[coluna].unique()\n",
    "    print(f\"Dados únicos da coluna '{coluna}': {dados_unicos}\")"
   ]
  },
  {
   "cell_type": "code",
   "execution_count": 270,
   "metadata": {},
   "outputs": [],
   "source": [
    "# Tranformando Unknown em valor NA\n",
    "dados['episodes'].replace('Unknown',pd.NA, inplace=True)"
   ]
  },
  {
   "cell_type": "code",
   "execution_count": 271,
   "metadata": {},
   "outputs": [
    {
     "data": {
      "text/plain": [
       "Unnamed: 0        0\n",
       "title             0\n",
       "episodes        520\n",
       "status            0\n",
       "theme             0\n",
       "demographic       0\n",
       "genres            0\n",
       "type              0\n",
       "favorites         0\n",
       "popularity        0\n",
       "rank           4065\n",
       "score          8968\n",
       "members           0\n",
       "synopsis          0\n",
       "aired             0\n",
       "duration          0\n",
       "premiered         0\n",
       "studios           0\n",
       "dtype: int64"
      ]
     },
     "execution_count": 271,
     "metadata": {},
     "output_type": "execute_result"
    }
   ],
   "source": [
    "dados.isnull().sum()"
   ]
  },
  {
   "cell_type": "code",
   "execution_count": 272,
   "metadata": {},
   "outputs": [
    {
     "data": {
      "text/plain": [
       "Unnamed: 0      0.000000\n",
       "title           0.000000\n",
       "episodes        2.143269\n",
       "status          0.000000\n",
       "theme           0.000000\n",
       "demographic     0.000000\n",
       "genres          0.000000\n",
       "type            0.000000\n",
       "favorites       0.000000\n",
       "popularity      0.000000\n",
       "rank           16.754596\n",
       "score          36.963152\n",
       "members         0.000000\n",
       "synopsis        0.000000\n",
       "aired           0.000000\n",
       "duration        0.000000\n",
       "premiered       0.000000\n",
       "studios         0.000000\n",
       "dtype: float64"
      ]
     },
     "execution_count": 272,
     "metadata": {},
     "output_type": "execute_result"
    }
   ],
   "source": [
    "dados.isnull().mean()*100"
   ]
  },
  {
   "cell_type": "markdown",
   "metadata": {},
   "source": [
    "Podemos observar que as categorias Rank,Score e episodes apresentam valores ausentes, com 16,75%, 36,96% e 2,14% de valores faltantes, respectivamente. Devido à importância dessas categorias para nossas análises, a estratégia mais adequada para lidar com os valores ausentes é a imputação, ou seja, preencher os valores faltantes com estimativas baseadas em outras informações.\n",
    "\n",
    "Nesse caso, iremos utilizar medidas de tendência central, como a média, moda ou mediana, para realizar a imputação. Antes disso, é necessário verificar se os dados seguem uma distribuição normal, pois isso pode influenciar na escolha da medida de tendência central mais apropriada."
   ]
  },
  {
   "cell_type": "code",
   "execution_count": 273,
   "metadata": {},
   "outputs": [
    {
     "data": {
      "image/png": "[encoded data removed]",
      "text/plain": [
       "<Figure size 1200x500 with 2 Axes>"
      ]
     },
     "metadata": {},
     "output_type": "display_data"
    }
   ],
   "source": [
    "fig, axes = plt.subplots(nrows=1, ncols=2, figsize=(12, 5))\n",
    "\n",
    "#Histograma\n",
    "sns.histplot(dados['score'], kde=True, color=\"red\", ax=axes[0])\n",
    "axes[0].set_title(\"Histograma Score\")\n",
    "axes[0].set_xlabel(\"Score dos Animes\")\n",
    "axes[0].set_ylabel(\"Densidade\")\n",
    "\n",
    "# Boxplot\n",
    "sns.boxplot(dados['score'], color='blue', ax=axes[1])\n",
    "axes[1].set_title(\"Boxplot Score\")\n",
    "plt.tight_layout()\n",
    "\n",
    "plt.show()\n"
   ]
  },
  {
   "cell_type": "code",
   "execution_count": 274,
   "metadata": {},
   "outputs": [
    {
     "data": {
      "image/png": "[encoded data removed]",
      "text/plain": [
       "<Figure size 1200x500 with 2 Axes>"
      ]
     },
     "metadata": {},
     "output_type": "display_data"
    }
   ],
   "source": [
    "# Converter para tipo numérico (float)\n",
    "dados['episodes'] = pd.to_numeric(dados['episodes'], errors='coerce')\n",
    "\n",
    "# Criar os subplots\n",
    "fig, axes = plt.subplots(nrows=1, ncols=2, figsize=(12, 5))\n",
    "\n",
    "# Histograma\n",
    "sns.histplot(dados['episodes'], kde=True, color=\"red\", ax=axes[0])\n",
    "axes[0].set_ylim(0,1000)\n",
    "axes[0].set_title(\"Histograma Episodes\")\n",
    "axes[0].set_xlabel(\"Episodes dos Animes\")\n",
    "axes[0].set_ylabel(\"Densidade\")\n",
    "\n",
    "# Boxplot\n",
    "sns.boxplot(dados['episodes'], color='blue', ax=axes[1])\n",
    "axes[1].set_title(\"Boxplot Episodes\")\n",
    "\n",
    "plt.tight_layout()\n",
    "plt.show()"
   ]
  },
  {
   "cell_type": "code",
   "execution_count": 275,
   "metadata": {},
   "outputs": [
    {
     "name": "stdout",
     "output_type": "stream",
     "text": [
      "score : Distribuição Não Normal\n",
      "episodes : Distribuição Não Normal\n"
     ]
    }
   ],
   "source": [
    "# Teste de Normalidade da Distribuição\n",
    "\n",
    "# Lista com as variáveis numéricas\n",
    "numerical_feature = ['score', 'episodes']\n",
    "\n",
    "# Loop\n",
    "for i in numerical_feature:\n",
    "    \n",
    "    # Calcula a normalidade\n",
    "    stats, pval = normaltest(dados[i])\n",
    "    \n",
    "     # Checar valor-p\n",
    "    if pval > 0.05:\n",
    "        print(i, ': Distribuição Normal')\n",
    "    else:\n",
    "        print(i, ': Distribuição Não Normal')"
   ]
  },
  {
   "cell_type": "markdown",
   "metadata": {},
   "source": [
    "Podemos observar que as variáveis \"Score\" e \"Episodes\" não seguem uma distribuição normal, o que indica que a escolha adequada para a imputação dos dados seria a moda ou a mediana. Já a variável \"Rank\" apresenta uma distribuição linear, o que nos permite fazer a imputação de forma crescente.\n",
    "\n",
    "Portanto, para a variável \"Score\", optaremos por utilizar a moda ou mediana como estratégia para preencher os valores ausentes, mesma coisa para a variável 'Episodes'. Enquanto para a variável \"Rank\", faremos a imputação de forma crescente, considerando a ordem dos valores existentes para preencher os dados faltantes. Essas decisões são importantes para garantir a precisão das análises e interpretações dos resultados obtidos a partir dos dados disponíveis."
   ]
  },
  {
   "cell_type": "code",
   "execution_count": 276,
   "metadata": {},
   "outputs": [
    {
     "data": {
      "text/plain": [
       "6.42"
      ]
     },
     "execution_count": 276,
     "metadata": {},
     "output_type": "execute_result"
    }
   ],
   "source": [
    "round(dados['score'].mean(),2)"
   ]
  },
  {
   "cell_type": "code",
   "execution_count": 277,
   "metadata": {},
   "outputs": [
    {
     "data": {
      "text/plain": [
       "6.42"
      ]
     },
     "execution_count": 277,
     "metadata": {},
     "output_type": "execute_result"
    }
   ],
   "source": [
    "round(dados['score'].median(),2)"
   ]
  },
  {
   "cell_type": "code",
   "execution_count": 278,
   "metadata": {},
   "outputs": [
    {
     "data": {
      "text/plain": [
       "0    6.51\n",
       "Name: score, dtype: float64"
      ]
     },
     "execution_count": 278,
     "metadata": {},
     "output_type": "execute_result"
    }
   ],
   "source": [
    "dados['score'].mode()"
   ]
  },
  {
   "cell_type": "code",
   "execution_count": 279,
   "metadata": {},
   "outputs": [
    {
     "name": "stdout",
     "output_type": "stream",
     "text": [
      "Quantidade de outliers: 92\n"
     ]
    }
   ],
   "source": [
    "# Verificar a quantidade de Outliers:\n",
    "\n",
    "# Calcular o limite superior e inferior para identificar outliers\n",
    "Q1 = dados['score'].quantile(0.25)\n",
    "Q3 = dados['score'].quantile(0.75)\n",
    "IQR = Q3 - Q1\n",
    "\n",
    "limite_superior = Q3 + 1.5 * IQR\n",
    "limite_inferior = Q1 - 1.5 * IQR\n",
    "\n",
    "# Identificar os outliers na coluna 'streams'\n",
    "outliers = dados[(dados['score'] < limite_inferior) | (dados['score'] > limite_superior)]\n",
    "\n",
    "# Exibir a quantidade de outliers\n",
    "quantidade_outliers = len(outliers)\n",
    "print(\"Quantidade de outliers:\", quantidade_outliers)"
   ]
  },
  {
   "cell_type": "markdown",
   "metadata": {},
   "source": [
    "Ao analisar os dados, podemos observar que os valores das medidas de tendência central, como a média, mediana e moda, são próximos entre si. Além disso, notamos que existem poucos outliers nos dados, e esses outliers são plausíveis considerando a natureza dos dados de anime e a votação popular, que pode variar significativamente de um anime para outro.\n",
    "\n",
    "Diante dessa análise, concluímos que a melhor estratégia para a imputação dos valores ausentes na variável é utilizar a moda. A moda é uma medida robusta e menos sensível a outliers, o que a torna mais adequada para preencher os dados faltantes sem ser influenciada por valores extremos.\n",
    "\n",
    "Portanto, vamos utilizar a moda como a nossa escolha para fazer a imputação dos valores ausentes na variável em questão. Isso nos permitirá obter resultados mais confiáveis e representativos para a análise dos dados de anime."
   ]
  },
  {
   "cell_type": "code",
   "execution_count": 280,
   "metadata": {},
   "outputs": [],
   "source": [
    "# Aplicando a imputação pela moda\n",
    "dados['score'].fillna(6.51, inplace=True)"
   ]
  },
  {
   "cell_type": "code",
   "execution_count": 281,
   "metadata": {},
   "outputs": [
    {
     "data": {
      "text/plain": [
       "0"
      ]
     },
     "execution_count": 281,
     "metadata": {},
     "output_type": "execute_result"
    }
   ],
   "source": [
    "dados['score'].isnull().sum()"
   ]
  },
  {
   "cell_type": "code",
   "execution_count": 282,
   "metadata": {},
   "outputs": [
    {
     "data": {
      "text/plain": [
       "15.26"
      ]
     },
     "execution_count": 282,
     "metadata": {},
     "output_type": "execute_result"
    }
   ],
   "source": [
    "round(dados['episodes'].mean(),2)"
   ]
  },
  {
   "cell_type": "code",
   "execution_count": 283,
   "metadata": {},
   "outputs": [
    {
     "data": {
      "text/plain": [
       "2.0"
      ]
     },
     "execution_count": 283,
     "metadata": {},
     "output_type": "execute_result"
    }
   ],
   "source": [
    "round(dados['episodes'].median(),2)"
   ]
  },
  {
   "cell_type": "code",
   "execution_count": 284,
   "metadata": {},
   "outputs": [
    {
     "data": {
      "text/plain": [
       "0    1.0\n",
       "Name: episodes, dtype: float64"
      ]
     },
     "execution_count": 284,
     "metadata": {},
     "output_type": "execute_result"
    }
   ],
   "source": [
    "dados['episodes'].mode()"
   ]
  },
  {
   "cell_type": "code",
   "execution_count": 285,
   "metadata": {},
   "outputs": [
    {
     "name": "stdout",
     "output_type": "stream",
     "text": [
      "Quantidade de outliers: 2860\n"
     ]
    }
   ],
   "source": [
    "# Verificar a quantidade de Outliers:\n",
    "\n",
    "# Calcular o limite superior e inferior para identificar outliers\n",
    "Q1 = dados['episodes'].quantile(0.25)\n",
    "Q3 = dados['episodes'].quantile(0.75)\n",
    "IQR = Q3 - Q1\n",
    "\n",
    "limite_superior = Q3 + 1.5 * IQR\n",
    "limite_inferior = Q1 - 1.5 * IQR\n",
    "\n",
    "# Identificar os outliers na coluna 'streams'\n",
    "outliers = dados[(dados['episodes'] < limite_inferior) | (dados['episodes'] > limite_superior)]\n",
    "\n",
    "# Exibir a quantidade de outliers\n",
    "quantidade_outliers = len(outliers)\n",
    "print(\"Quantidade de outliers:\", quantidade_outliers)"
   ]
  },
  {
   "cell_type": "markdown",
   "metadata": {},
   "source": [
    "Como os dados não seguem uma distribuição normal e levando em conta a quantidade de outliers, devemos utilizar a moda"
   ]
  },
  {
   "cell_type": "code",
   "execution_count": 286,
   "metadata": {},
   "outputs": [],
   "source": [
    "dados['episodes'].fillna(1.0, inplace=True)"
   ]
  },
  {
   "cell_type": "code",
   "execution_count": 287,
   "metadata": {},
   "outputs": [
    {
     "data": {
      "text/plain": [
       "0"
      ]
     },
     "execution_count": 287,
     "metadata": {},
     "output_type": "execute_result"
    }
   ],
   "source": [
    "dados['episodes'].isnull().sum()"
   ]
  },
  {
   "cell_type": "code",
   "execution_count": 288,
   "metadata": {},
   "outputs": [],
   "source": [
    "# Identificar os valores ausentes na coluna \"rank\"\n",
    "valores_ausentes = dados['rank'].isnull()\n",
    "\n",
    "# Criar uma lista com os valores que faltam\n",
    "valores_imputacao = list(range(1, valores_ausentes.sum() + 1))\n",
    "\n",
    "# Preencher os valores ausentes\n",
    "dados.loc[valores_ausentes, 'rank'] = valores_imputacao"
   ]
  },
  {
   "cell_type": "code",
   "execution_count": 289,
   "metadata": {},
   "outputs": [
    {
     "data": {
      "text/plain": [
       "0"
      ]
     },
     "execution_count": 289,
     "metadata": {},
     "output_type": "execute_result"
    }
   ],
   "source": [
    "dados['rank'].isnull().sum()"
   ]
  },
  {
   "cell_type": "code",
   "execution_count": 290,
   "metadata": {},
   "outputs": [
    {
     "data": {
      "text/html": [
       "<div>\n",
       "<style scoped>\n",
       "    .dataframe tbody tr th:only-of-type {\n",
       "        vertical-align: middle;\n",
       "    }\n",
       "\n",
       "    .dataframe tbody tr th {\n",
       "        vertical-align: top;\n",
       "    }\n",
       "\n",
       "    .dataframe thead th {\n",
       "        text-align: right;\n",
       "    }\n",
       "</style>\n",
       "<table border=\"1\" class=\"dataframe\">\n",
       "  <thead>\n",
       "    <tr style=\"text-align: right;\">\n",
       "      <th></th>\n",
       "      <th>Unnamed: 0</th>\n",
       "      <th>title</th>\n",
       "      <th>episodes</th>\n",
       "      <th>status</th>\n",
       "      <th>theme</th>\n",
       "      <th>demographic</th>\n",
       "      <th>genres</th>\n",
       "      <th>type</th>\n",
       "      <th>favorites</th>\n",
       "      <th>popularity</th>\n",
       "      <th>rank</th>\n",
       "      <th>score</th>\n",
       "      <th>members</th>\n",
       "      <th>synopsis</th>\n",
       "      <th>aired</th>\n",
       "      <th>duration</th>\n",
       "      <th>premiered</th>\n",
       "      <th>studios</th>\n",
       "    </tr>\n",
       "  </thead>\n",
       "  <tbody>\n",
       "    <tr>\n",
       "      <th>0</th>\n",
       "      <td>0</td>\n",
       "      <td>Fullmetal Alchemist: Brotherhood</td>\n",
       "      <td>64.0</td>\n",
       "      <td>Finished Airing</td>\n",
       "      <td>Military</td>\n",
       "      <td>Shounen</td>\n",
       "      <td>Action,Adventure,Drama,Fantasy,</td>\n",
       "      <td>TV</td>\n",
       "      <td>218277</td>\n",
       "      <td>3</td>\n",
       "      <td>1</td>\n",
       "      <td>9.10</td>\n",
       "      <td>3190961</td>\n",
       "      <td>After a horrific alchemy experiment goes wrong...</td>\n",
       "      <td>Apr 5, 2009 to Jul 4, 2010</td>\n",
       "      <td>24</td>\n",
       "      <td>Spring 2009</td>\n",
       "      <td>Bones</td>\n",
       "    </tr>\n",
       "    <tr>\n",
       "      <th>1</th>\n",
       "      <td>1</td>\n",
       "      <td>Steins;Gate</td>\n",
       "      <td>24.0</td>\n",
       "      <td>Finished Airing</td>\n",
       "      <td>Unknown</td>\n",
       "      <td>Unknown</td>\n",
       "      <td>Drama,Sci-Fi,Suspense,</td>\n",
       "      <td>TV</td>\n",
       "      <td>183596</td>\n",
       "      <td>13</td>\n",
       "      <td>2</td>\n",
       "      <td>9.07</td>\n",
       "      <td>2452142</td>\n",
       "      <td>Eccentric scientist Rintarou Okabe has a never...</td>\n",
       "      <td>Apr 6, 2011 to Sep 14, 2011</td>\n",
       "      <td>24</td>\n",
       "      <td>Spring 2011</td>\n",
       "      <td>White Fox</td>\n",
       "    </tr>\n",
       "    <tr>\n",
       "      <th>2</th>\n",
       "      <td>2</td>\n",
       "      <td>Bleach: Sennen Kessen-hen</td>\n",
       "      <td>13.0</td>\n",
       "      <td>Finished Airing</td>\n",
       "      <td>Unknown</td>\n",
       "      <td>Shounen</td>\n",
       "      <td>Action,Adventure,Fantasy,</td>\n",
       "      <td>TV</td>\n",
       "      <td>18421</td>\n",
       "      <td>458</td>\n",
       "      <td>3</td>\n",
       "      <td>9.06</td>\n",
       "      <td>455428</td>\n",
       "      <td>Substitute Soul Reaper Ichigo Kurosaki spends ...</td>\n",
       "      <td>Oct 11, 2022 to Dec 27, 2022</td>\n",
       "      <td>24</td>\n",
       "      <td>Fall 2022</td>\n",
       "      <td>Pierrot</td>\n",
       "    </tr>\n",
       "    <tr>\n",
       "      <th>3</th>\n",
       "      <td>3</td>\n",
       "      <td>Gintama°</td>\n",
       "      <td>51.0</td>\n",
       "      <td>Finished Airing</td>\n",
       "      <td>Unknown</td>\n",
       "      <td>Shounen</td>\n",
       "      <td>Action,Comedy,Sci-Fi,</td>\n",
       "      <td>TV</td>\n",
       "      <td>16042</td>\n",
       "      <td>332</td>\n",
       "      <td>4</td>\n",
       "      <td>9.06</td>\n",
       "      <td>599235</td>\n",
       "      <td>Gintoki, Shinpachi, and Kagura return as the f...</td>\n",
       "      <td>Apr 8, 2015 to Mar 30, 2016</td>\n",
       "      <td>24</td>\n",
       "      <td>Spring 2015</td>\n",
       "      <td>Bandai Namco Pictures</td>\n",
       "    </tr>\n",
       "    <tr>\n",
       "      <th>4</th>\n",
       "      <td>4</td>\n",
       "      <td>Kaguya-sama wa Kokurasetai: Ultra Romantic</td>\n",
       "      <td>13.0</td>\n",
       "      <td>Finished Airing</td>\n",
       "      <td>School</td>\n",
       "      <td>Seinen</td>\n",
       "      <td>Comedy,Romance,</td>\n",
       "      <td>TV</td>\n",
       "      <td>29397</td>\n",
       "      <td>193</td>\n",
       "      <td>5</td>\n",
       "      <td>9.05</td>\n",
       "      <td>832346</td>\n",
       "      <td>The elite members of Shuchiin Academy's studen...</td>\n",
       "      <td>Apr 9, 2022 to Jun 25, 2022</td>\n",
       "      <td>23</td>\n",
       "      <td>Spring 2022</td>\n",
       "      <td>A-1 Pictures</td>\n",
       "    </tr>\n",
       "  </tbody>\n",
       "</table>\n",
       "</div>"
      ],
      "text/plain": [
       "   Unnamed: 0                                       title  episodes  \\\n",
       "0           0            Fullmetal Alchemist: Brotherhood      64.0   \n",
       "1           1                                 Steins;Gate      24.0   \n",
       "2           2                   Bleach: Sennen Kessen-hen      13.0   \n",
       "3           3                                    Gintama°      51.0   \n",
       "4           4  Kaguya-sama wa Kokurasetai: Ultra Romantic      13.0   \n",
       "\n",
       "            status     theme demographic                           genres  \\\n",
       "0  Finished Airing  Military     Shounen  Action,Adventure,Drama,Fantasy,   \n",
       "1  Finished Airing   Unknown     Unknown           Drama,Sci-Fi,Suspense,   \n",
       "2  Finished Airing   Unknown     Shounen        Action,Adventure,Fantasy,   \n",
       "3  Finished Airing   Unknown     Shounen            Action,Comedy,Sci-Fi,   \n",
       "4  Finished Airing    School      Seinen                  Comedy,Romance,   \n",
       "\n",
       "  type favorites popularity rank  score  members  \\\n",
       "0   TV    218277          3    1   9.10  3190961   \n",
       "1   TV    183596         13    2   9.07  2452142   \n",
       "2   TV     18421        458    3   9.06   455428   \n",
       "3   TV     16042        332    4   9.06   599235   \n",
       "4   TV     29397        193    5   9.05   832346   \n",
       "\n",
       "                                            synopsis  \\\n",
       "0  After a horrific alchemy experiment goes wrong...   \n",
       "1  Eccentric scientist Rintarou Okabe has a never...   \n",
       "2  Substitute Soul Reaper Ichigo Kurosaki spends ...   \n",
       "3  Gintoki, Shinpachi, and Kagura return as the f...   \n",
       "4  The elite members of Shuchiin Academy's studen...   \n",
       "\n",
       "                          aired  duration    premiered                studios  \n",
       "0    Apr 5, 2009 to Jul 4, 2010        24  Spring 2009                  Bones  \n",
       "1   Apr 6, 2011 to Sep 14, 2011        24  Spring 2011              White Fox  \n",
       "2  Oct 11, 2022 to Dec 27, 2022        24    Fall 2022                Pierrot  \n",
       "3   Apr 8, 2015 to Mar 30, 2016        24  Spring 2015  Bandai Namco Pictures  \n",
       "4   Apr 9, 2022 to Jun 25, 2022        23  Spring 2022           A-1 Pictures  "
      ]
     },
     "execution_count": 290,
     "metadata": {},
     "output_type": "execute_result"
    }
   ],
   "source": [
    "dados.head()"
   ]
  },
  {
   "cell_type": "code",
   "execution_count": 291,
   "metadata": {},
   "outputs": [
    {
     "data": {
      "text/plain": [
       "Unnamed: 0       int64\n",
       "title           object\n",
       "episodes       float64\n",
       "status          object\n",
       "theme           object\n",
       "demographic     object\n",
       "genres          object\n",
       "type            object\n",
       "favorites       object\n",
       "popularity      object\n",
       "rank            object\n",
       "score          float64\n",
       "members         object\n",
       "synopsis        object\n",
       "aired           object\n",
       "duration         int64\n",
       "premiered       object\n",
       "studios         object\n",
       "dtype: object"
      ]
     },
     "execution_count": 291,
     "metadata": {},
     "output_type": "execute_result"
    }
   ],
   "source": [
    "dados.dtypes"
   ]
  },
  {
   "cell_type": "markdown",
   "metadata": {},
   "source": [
    "#### Mudando tipo de Variáveis"
   ]
  },
  {
   "cell_type": "code",
   "execution_count": 292,
   "metadata": {},
   "outputs": [
    {
     "name": "stdout",
     "output_type": "stream",
     "text": [
      "<class 'pandas.core.frame.DataFrame'>\n",
      "RangeIndex: 24262 entries, 0 to 24261\n",
      "Data columns (total 18 columns):\n",
      " #   Column       Non-Null Count  Dtype  \n",
      "---  ------       --------------  -----  \n",
      " 0   Unnamed: 0   24262 non-null  int64  \n",
      " 1   title        24262 non-null  object \n",
      " 2   episodes     24262 non-null  float64\n",
      " 3   status       24262 non-null  object \n",
      " 4   theme        24262 non-null  object \n",
      " 5   demographic  24262 non-null  object \n",
      " 6   genres       24262 non-null  object \n",
      " 7   type         24262 non-null  object \n",
      " 8   favorites    24262 non-null  object \n",
      " 9   popularity   24262 non-null  object \n",
      " 10  rank         24262 non-null  object \n",
      " 11  score        24262 non-null  float64\n",
      " 12  members      24262 non-null  object \n",
      " 13  synopsis     24262 non-null  object \n",
      " 14  aired        24262 non-null  object \n",
      " 15  duration     24262 non-null  int64  \n",
      " 16  premiered    24262 non-null  object \n",
      " 17  studios      24262 non-null  object \n",
      "dtypes: float64(2), int64(2), object(14)\n",
      "memory usage: 3.3+ MB\n"
     ]
    }
   ],
   "source": [
    "dados.info()"
   ]
  },
  {
   "cell_type": "markdown",
   "metadata": {},
   "source": [
    "Algumas variáveis foram erroneamente descritas como string (object64), mas na verdade não são. Realizaremos a devida conversão dessas variáveis, uma vez que identificamos que o conjunto de dados pode conter informações de texto, como \"unkanow\", que podem ter influenciado na interpretação dos tipos de dados. Vamos proceder com a correção para garantir a precisão das análises."
   ]
  },
  {
   "cell_type": "code",
   "execution_count": 293,
   "metadata": {},
   "outputs": [],
   "source": [
    "# episodes\n",
    "dados[\"episodes\"] = pd.to_numeric(dados[\"episodes\"], errors='coerce').astype('Int64')"
   ]
  },
  {
   "cell_type": "code",
   "execution_count": 294,
   "metadata": {},
   "outputs": [
    {
     "data": {
      "text/plain": [
       "0.0"
      ]
     },
     "execution_count": 294,
     "metadata": {},
     "output_type": "execute_result"
    }
   ],
   "source": [
    "#Dados Faltantes\n",
    "dados['episodes'].isnull().mean()*100"
   ]
  },
  {
   "cell_type": "code",
   "execution_count": 295,
   "metadata": {},
   "outputs": [],
   "source": [
    "#Favorites\n",
    "dados[\"favorites\"] = pd.to_numeric(dados[\"favorites\"], errors='coerce').astype('Int64')"
   ]
  },
  {
   "cell_type": "code",
   "execution_count": 296,
   "metadata": {},
   "outputs": [
    {
     "data": {
      "text/plain": [
       "0"
      ]
     },
     "execution_count": 296,
     "metadata": {},
     "output_type": "execute_result"
    }
   ],
   "source": [
    "dados['favorites'].isnull().sum()"
   ]
  },
  {
   "cell_type": "code",
   "execution_count": 297,
   "metadata": {},
   "outputs": [],
   "source": [
    "#popularity\n",
    "dados[\"popularity\"] = pd.to_numeric(dados[\"popularity\"], errors='coerce').astype('Int64')"
   ]
  },
  {
   "cell_type": "code",
   "execution_count": 298,
   "metadata": {},
   "outputs": [
    {
     "data": {
      "text/plain": [
       "0"
      ]
     },
     "execution_count": 298,
     "metadata": {},
     "output_type": "execute_result"
    }
   ],
   "source": [
    "dados['popularity'].isnull().sum()"
   ]
  },
  {
   "cell_type": "code",
   "execution_count": 299,
   "metadata": {},
   "outputs": [],
   "source": [
    "#rank\n",
    "dados[\"rank\"] = pd.to_numeric(dados[\"rank\"], errors='coerce').astype('Int64')"
   ]
  },
  {
   "cell_type": "code",
   "execution_count": 300,
   "metadata": {},
   "outputs": [
    {
     "data": {
      "text/plain": [
       "0"
      ]
     },
     "execution_count": 300,
     "metadata": {},
     "output_type": "execute_result"
    }
   ],
   "source": [
    "dados['rank'].isnull().sum()"
   ]
  },
  {
   "cell_type": "code",
   "execution_count": 301,
   "metadata": {},
   "outputs": [],
   "source": [
    "#members\n",
    "dados[\"members\"] = pd.to_numeric(dados[\"members\"], errors='coerce').astype('Int64')"
   ]
  },
  {
   "cell_type": "code",
   "execution_count": 302,
   "metadata": {},
   "outputs": [
    {
     "data": {
      "text/plain": [
       "0"
      ]
     },
     "execution_count": 302,
     "metadata": {},
     "output_type": "execute_result"
    }
   ],
   "source": [
    "dados['members'].isnull().sum()"
   ]
  },
  {
   "cell_type": "code",
   "execution_count": 303,
   "metadata": {},
   "outputs": [],
   "source": [
    "#duration \n",
    "dados[\"duration\"] = pd.to_numeric(dados[\"duration\"], errors='coerce').astype('Int64')"
   ]
  },
  {
   "cell_type": "code",
   "execution_count": 304,
   "metadata": {},
   "outputs": [
    {
     "data": {
      "text/plain": [
       "0"
      ]
     },
     "execution_count": 304,
     "metadata": {},
     "output_type": "execute_result"
    }
   ],
   "source": [
    "dados['duration'].isnull().sum()"
   ]
  },
  {
   "cell_type": "code",
   "execution_count": 305,
   "metadata": {},
   "outputs": [
    {
     "data": {
      "text/plain": [
       "Unnamed: 0       int64\n",
       "title           object\n",
       "episodes         Int64\n",
       "status          object\n",
       "theme           object\n",
       "demographic     object\n",
       "genres          object\n",
       "type            object\n",
       "favorites        Int64\n",
       "popularity       Int64\n",
       "rank             Int64\n",
       "score          float64\n",
       "members          Int64\n",
       "synopsis        object\n",
       "aired           object\n",
       "duration         Int64\n",
       "premiered       object\n",
       "studios         object\n",
       "dtype: object"
      ]
     },
     "execution_count": 305,
     "metadata": {},
     "output_type": "execute_result"
    }
   ],
   "source": [
    "dados.dtypes"
   ]
  },
  {
   "cell_type": "code",
   "execution_count": 306,
   "metadata": {},
   "outputs": [],
   "source": [
    "dados.drop(columns='Unnamed: 0', inplace=True)"
   ]
  },
  {
   "cell_type": "markdown",
   "metadata": {},
   "source": [
    "#### Análise Descritiva dos Dados"
   ]
  },
  {
   "cell_type": "code",
   "execution_count": 307,
   "metadata": {},
   "outputs": [
    {
     "data": {
      "text/html": [
       "<div>\n",
       "<style scoped>\n",
       "    .dataframe tbody tr th:only-of-type {\n",
       "        vertical-align: middle;\n",
       "    }\n",
       "\n",
       "    .dataframe tbody tr th {\n",
       "        vertical-align: top;\n",
       "    }\n",
       "\n",
       "    .dataframe thead th {\n",
       "        text-align: right;\n",
       "    }\n",
       "</style>\n",
       "<table border=\"1\" class=\"dataframe\">\n",
       "  <thead>\n",
       "    <tr style=\"text-align: right;\">\n",
       "      <th></th>\n",
       "      <th>episodes</th>\n",
       "      <th>favorites</th>\n",
       "      <th>popularity</th>\n",
       "      <th>rank</th>\n",
       "      <th>score</th>\n",
       "      <th>members</th>\n",
       "      <th>duration</th>\n",
       "    </tr>\n",
       "  </thead>\n",
       "  <tbody>\n",
       "    <tr>\n",
       "      <th>count</th>\n",
       "      <td>24262.0</td>\n",
       "      <td>24262.0</td>\n",
       "      <td>24262.0</td>\n",
       "      <td>24262.0</td>\n",
       "      <td>24262.000000</td>\n",
       "      <td>24262.0</td>\n",
       "      <td>24262.0</td>\n",
       "    </tr>\n",
       "    <tr>\n",
       "      <th>mean</th>\n",
       "      <td>14.951529</td>\n",
       "      <td>446.694007</td>\n",
       "      <td>12468.341645</td>\n",
       "      <td>8747.592655</td>\n",
       "      <td>6.451452</td>\n",
       "      <td>38325.441884</td>\n",
       "      <td>21.349765</td>\n",
       "    </tr>\n",
       "    <tr>\n",
       "      <th>std</th>\n",
       "      <td>48.63503</td>\n",
       "      <td>4429.920807</td>\n",
       "      <td>7241.184118</td>\n",
       "      <td>6132.236053</td>\n",
       "      <td>0.731429</td>\n",
       "      <td>159697.401664</td>\n",
       "      <td>24.601638</td>\n",
       "    </tr>\n",
       "    <tr>\n",
       "      <th>min</th>\n",
       "      <td>1.0</td>\n",
       "      <td>0.0</td>\n",
       "      <td>1.0</td>\n",
       "      <td>1.0</td>\n",
       "      <td>1.850000</td>\n",
       "      <td>6.0</td>\n",
       "      <td>0.0</td>\n",
       "    </tr>\n",
       "    <tr>\n",
       "      <th>25%</th>\n",
       "      <td>1.0</td>\n",
       "      <td>0.0</td>\n",
       "      <td>6095.25</td>\n",
       "      <td>3033.25</td>\n",
       "      <td>6.180000</td>\n",
       "      <td>211.0</td>\n",
       "      <td>4.0</td>\n",
       "    </tr>\n",
       "    <tr>\n",
       "      <th>50%</th>\n",
       "      <td>2.0</td>\n",
       "      <td>1.0</td>\n",
       "      <td>12616.0</td>\n",
       "      <td>8066.5</td>\n",
       "      <td>6.510000</td>\n",
       "      <td>1028.5</td>\n",
       "      <td>15.0</td>\n",
       "    </tr>\n",
       "    <tr>\n",
       "      <th>75%</th>\n",
       "      <td>13.0</td>\n",
       "      <td>19.0</td>\n",
       "      <td>18771.75</td>\n",
       "      <td>14131.75</td>\n",
       "      <td>6.670000</td>\n",
       "      <td>9961.0</td>\n",
       "      <td>25.0</td>\n",
       "    </tr>\n",
       "    <tr>\n",
       "      <th>max</th>\n",
       "      <td>3057.0</td>\n",
       "      <td>218277.0</td>\n",
       "      <td>24852.0</td>\n",
       "      <td>20197.0</td>\n",
       "      <td>9.100000</td>\n",
       "      <td>3762148.0</td>\n",
       "      <td>168.0</td>\n",
       "    </tr>\n",
       "  </tbody>\n",
       "</table>\n",
       "</div>"
      ],
      "text/plain": [
       "        episodes    favorites    popularity         rank         score  \\\n",
       "count    24262.0      24262.0       24262.0      24262.0  24262.000000   \n",
       "mean   14.951529   446.694007  12468.341645  8747.592655      6.451452   \n",
       "std     48.63503  4429.920807   7241.184118  6132.236053      0.731429   \n",
       "min          1.0          0.0           1.0          1.0      1.850000   \n",
       "25%          1.0          0.0       6095.25      3033.25      6.180000   \n",
       "50%          2.0          1.0       12616.0       8066.5      6.510000   \n",
       "75%         13.0         19.0      18771.75     14131.75      6.670000   \n",
       "max       3057.0     218277.0       24852.0      20197.0      9.100000   \n",
       "\n",
       "             members   duration  \n",
       "count        24262.0    24262.0  \n",
       "mean    38325.441884  21.349765  \n",
       "std    159697.401664  24.601638  \n",
       "min              6.0        0.0  \n",
       "25%            211.0        4.0  \n",
       "50%           1028.5       15.0  \n",
       "75%           9961.0       25.0  \n",
       "max        3762148.0      168.0  "
      ]
     },
     "execution_count": 307,
     "metadata": {},
     "output_type": "execute_result"
    }
   ],
   "source": [
    "dados.describe()"
   ]
  },
  {
   "cell_type": "markdown",
   "metadata": {},
   "source": [
    "Esses são os resultados da análise descritiva:\n",
    "\n",
    "episodes: A coluna \"episodes\" possui 24.262 registros. A média de episódios é aproximadamente 14,95, com um mínimo de 1 e máximo de 3.057 episódios. A dispersão dos dados é alta, com um desvio padrão de cerca de 48,63 episódios.\n",
    "\n",
    "favorites: A coluna \"favorites\" também possui 24.262 registros. A média de favoritos é de aproximadamente 446,69, com um mínimo de 0 e máximo de 218.277. Os dados têm alta dispersão, com um desvio padrão de aproximadamente 4.429,92.\n",
    "\n",
    "popularity: A coluna \"popularity\" possui 24.262 registros. A média de popularidade é de aproximadamente 12.468,34, com um mínimo de 1 e máximo de 24.852. Os dados têm alta dispersão, com um desvio padrão de aproximadamente 7.241,18.\n",
    "\n",
    "score: A coluna \"score\" possui 15.294 registros (menos que as outras colunas). A média de score é de aproximadamente 6,42, com um mínimo de 1,85 e máximo de 9,1. Os dados têm baixa dispersão, com um desvio padrão de aproximadamente 0,92.\n",
    "\n",
    "members: A coluna \"members\" possui 24.262 registros. A média de membros é de aproximadamente 38.325,44, com um mínimo de 6 e máximo de 3.762.148. Os dados têm alta dispersão, com um desvio padrão de aproximadamente 159.697,40.\n",
    "\n",
    "duration: A coluna \"duration\" possui 24.262 registros. A média da duração é de aproximadamente 21,35 minutos, com um mínimo de 0 e máximo de 168 minutos. Os dados têm alta dispersão, com um desvio padrão de aproximadamente 24,60 minutos."
   ]
  },
  {
   "cell_type": "code",
   "execution_count": 308,
   "metadata": {},
   "outputs": [
    {
     "data": {
      "text/html": [
       "<div>\n",
       "<style scoped>\n",
       "    .dataframe tbody tr th:only-of-type {\n",
       "        vertical-align: middle;\n",
       "    }\n",
       "\n",
       "    .dataframe tbody tr th {\n",
       "        vertical-align: top;\n",
       "    }\n",
       "\n",
       "    .dataframe thead th {\n",
       "        text-align: right;\n",
       "    }\n",
       "</style>\n",
       "<table border=\"1\" class=\"dataframe\">\n",
       "  <thead>\n",
       "    <tr style=\"text-align: right;\">\n",
       "      <th></th>\n",
       "      <th>title</th>\n",
       "      <th>episodes</th>\n",
       "      <th>status</th>\n",
       "      <th>theme</th>\n",
       "      <th>demographic</th>\n",
       "      <th>genres</th>\n",
       "      <th>type</th>\n",
       "      <th>favorites</th>\n",
       "      <th>popularity</th>\n",
       "      <th>rank</th>\n",
       "      <th>score</th>\n",
       "      <th>members</th>\n",
       "      <th>synopsis</th>\n",
       "      <th>aired</th>\n",
       "      <th>duration</th>\n",
       "      <th>premiered</th>\n",
       "      <th>studios</th>\n",
       "    </tr>\n",
       "  </thead>\n",
       "  <tbody>\n",
       "    <tr>\n",
       "      <th>0</th>\n",
       "      <td>Fullmetal Alchemist: Brotherhood</td>\n",
       "      <td>64</td>\n",
       "      <td>Finished Airing</td>\n",
       "      <td>Military</td>\n",
       "      <td>Shounen</td>\n",
       "      <td>Action,Adventure,Drama,Fantasy,</td>\n",
       "      <td>TV</td>\n",
       "      <td>218277</td>\n",
       "      <td>3</td>\n",
       "      <td>1</td>\n",
       "      <td>9.10</td>\n",
       "      <td>3190961</td>\n",
       "      <td>After a horrific alchemy experiment goes wrong...</td>\n",
       "      <td>Apr 5, 2009 to Jul 4, 2010</td>\n",
       "      <td>24</td>\n",
       "      <td>Spring 2009</td>\n",
       "      <td>Bones</td>\n",
       "    </tr>\n",
       "    <tr>\n",
       "      <th>1</th>\n",
       "      <td>Steins;Gate</td>\n",
       "      <td>24</td>\n",
       "      <td>Finished Airing</td>\n",
       "      <td>Unknown</td>\n",
       "      <td>Unknown</td>\n",
       "      <td>Drama,Sci-Fi,Suspense,</td>\n",
       "      <td>TV</td>\n",
       "      <td>183596</td>\n",
       "      <td>13</td>\n",
       "      <td>2</td>\n",
       "      <td>9.07</td>\n",
       "      <td>2452142</td>\n",
       "      <td>Eccentric scientist Rintarou Okabe has a never...</td>\n",
       "      <td>Apr 6, 2011 to Sep 14, 2011</td>\n",
       "      <td>24</td>\n",
       "      <td>Spring 2011</td>\n",
       "      <td>White Fox</td>\n",
       "    </tr>\n",
       "    <tr>\n",
       "      <th>2</th>\n",
       "      <td>Bleach: Sennen Kessen-hen</td>\n",
       "      <td>13</td>\n",
       "      <td>Finished Airing</td>\n",
       "      <td>Unknown</td>\n",
       "      <td>Shounen</td>\n",
       "      <td>Action,Adventure,Fantasy,</td>\n",
       "      <td>TV</td>\n",
       "      <td>18421</td>\n",
       "      <td>458</td>\n",
       "      <td>3</td>\n",
       "      <td>9.06</td>\n",
       "      <td>455428</td>\n",
       "      <td>Substitute Soul Reaper Ichigo Kurosaki spends ...</td>\n",
       "      <td>Oct 11, 2022 to Dec 27, 2022</td>\n",
       "      <td>24</td>\n",
       "      <td>Fall 2022</td>\n",
       "      <td>Pierrot</td>\n",
       "    </tr>\n",
       "    <tr>\n",
       "      <th>3</th>\n",
       "      <td>Gintama°</td>\n",
       "      <td>51</td>\n",
       "      <td>Finished Airing</td>\n",
       "      <td>Unknown</td>\n",
       "      <td>Shounen</td>\n",
       "      <td>Action,Comedy,Sci-Fi,</td>\n",
       "      <td>TV</td>\n",
       "      <td>16042</td>\n",
       "      <td>332</td>\n",
       "      <td>4</td>\n",
       "      <td>9.06</td>\n",
       "      <td>599235</td>\n",
       "      <td>Gintoki, Shinpachi, and Kagura return as the f...</td>\n",
       "      <td>Apr 8, 2015 to Mar 30, 2016</td>\n",
       "      <td>24</td>\n",
       "      <td>Spring 2015</td>\n",
       "      <td>Bandai Namco Pictures</td>\n",
       "    </tr>\n",
       "    <tr>\n",
       "      <th>4</th>\n",
       "      <td>Kaguya-sama wa Kokurasetai: Ultra Romantic</td>\n",
       "      <td>13</td>\n",
       "      <td>Finished Airing</td>\n",
       "      <td>School</td>\n",
       "      <td>Seinen</td>\n",
       "      <td>Comedy,Romance,</td>\n",
       "      <td>TV</td>\n",
       "      <td>29397</td>\n",
       "      <td>193</td>\n",
       "      <td>5</td>\n",
       "      <td>9.05</td>\n",
       "      <td>832346</td>\n",
       "      <td>The elite members of Shuchiin Academy's studen...</td>\n",
       "      <td>Apr 9, 2022 to Jun 25, 2022</td>\n",
       "      <td>23</td>\n",
       "      <td>Spring 2022</td>\n",
       "      <td>A-1 Pictures</td>\n",
       "    </tr>\n",
       "  </tbody>\n",
       "</table>\n",
       "</div>"
      ],
      "text/plain": [
       "                                        title  episodes           status  \\\n",
       "0            Fullmetal Alchemist: Brotherhood        64  Finished Airing   \n",
       "1                                 Steins;Gate        24  Finished Airing   \n",
       "2                   Bleach: Sennen Kessen-hen        13  Finished Airing   \n",
       "3                                    Gintama°        51  Finished Airing   \n",
       "4  Kaguya-sama wa Kokurasetai: Ultra Romantic        13  Finished Airing   \n",
       "\n",
       "      theme demographic                           genres type  favorites  \\\n",
       "0  Military     Shounen  Action,Adventure,Drama,Fantasy,   TV     218277   \n",
       "1   Unknown     Unknown           Drama,Sci-Fi,Suspense,   TV     183596   \n",
       "2   Unknown     Shounen        Action,Adventure,Fantasy,   TV      18421   \n",
       "3   Unknown     Shounen            Action,Comedy,Sci-Fi,   TV      16042   \n",
       "4    School      Seinen                  Comedy,Romance,   TV      29397   \n",
       "\n",
       "   popularity  rank  score  members  \\\n",
       "0           3     1   9.10  3190961   \n",
       "1          13     2   9.07  2452142   \n",
       "2         458     3   9.06   455428   \n",
       "3         332     4   9.06   599235   \n",
       "4         193     5   9.05   832346   \n",
       "\n",
       "                                            synopsis  \\\n",
       "0  After a horrific alchemy experiment goes wrong...   \n",
       "1  Eccentric scientist Rintarou Okabe has a never...   \n",
       "2  Substitute Soul Reaper Ichigo Kurosaki spends ...   \n",
       "3  Gintoki, Shinpachi, and Kagura return as the f...   \n",
       "4  The elite members of Shuchiin Academy's studen...   \n",
       "\n",
       "                          aired  duration    premiered                studios  \n",
       "0    Apr 5, 2009 to Jul 4, 2010        24  Spring 2009                  Bones  \n",
       "1   Apr 6, 2011 to Sep 14, 2011        24  Spring 2011              White Fox  \n",
       "2  Oct 11, 2022 to Dec 27, 2022        24    Fall 2022                Pierrot  \n",
       "3   Apr 8, 2015 to Mar 30, 2016        24  Spring 2015  Bandai Namco Pictures  \n",
       "4   Apr 9, 2022 to Jun 25, 2022        23  Spring 2022           A-1 Pictures  "
      ]
     },
     "execution_count": 308,
     "metadata": {},
     "output_type": "execute_result"
    }
   ],
   "source": [
    "dados.head()"
   ]
  },
  {
   "cell_type": "markdown",
   "metadata": {},
   "source": [
    "### Maiores Scores de Animes"
   ]
  },
  {
   "cell_type": "code",
   "execution_count": 309,
   "metadata": {},
   "outputs": [
    {
     "data": {
      "image/png": "[encoded data removed]",
      "text/plain": [
       "<Figure size 1000x600 with 1 Axes>"
      ]
     },
     "metadata": {},
     "output_type": "display_data"
    }
   ],
   "source": [
    "dados_Animes = dados.head(15)\n",
    "\n",
    "# Definir o tamanho da figura\n",
    "\n",
    "plt.figure(figsize=(10, 6))\n",
    "sns.set_theme(style=\"dark\")\n",
    "sns.barplot(data=dados_Animes, x='score', y='title', orient='h', color='blue')\n",
    "\n",
    "plt.title(\"Maiores Pontuações por Animes (15)\")\n",
    "plt.xlabel(\"Pontuação do Anime\")\n",
    "plt.ylabel(\"Título do Anime\")\n",
    "\n",
    "# Adicionar rótulos de dados\n",
    "for index, value in enumerate(dados_Animes['score']):\n",
    "    plt.text(value, index, str(value), ha='right', va='center', color='White', fontweight='bold')\n",
    "\n",
    "plt.show()\n"
   ]
  },
  {
   "cell_type": "markdown",
   "metadata": {},
   "source": [
    "Podemos observar que o anime com a maior pontuação é \"Fullmetal Alchemist Brotherhood\". Além disso, notamos que a diferença de pontuação entre os primeiros colocados é pequena. Por outro lado, é possível perceber que existem diferenças sutis na nomenclatura do anime \"Gintama\", como \"Gintama.\" e \"Gintama'\". Essas diferenças podem estar relacionadas a variações no número de episódios e nas pontuações, conforme verificado no site MyAnimeList."
   ]
  },
  {
   "cell_type": "markdown",
   "metadata": {},
   "source": [
    "#### Animes mais Populares"
   ]
  },
  {
   "cell_type": "code",
   "execution_count": 353,
   "metadata": {},
   "outputs": [
    {
     "data": {
      "text/html": [
       "<div>\n",
       "<style scoped>\n",
       "    .dataframe tbody tr th:only-of-type {\n",
       "        vertical-align: middle;\n",
       "    }\n",
       "\n",
       "    .dataframe tbody tr th {\n",
       "        vertical-align: top;\n",
       "    }\n",
       "\n",
       "    .dataframe thead th {\n",
       "        text-align: right;\n",
       "    }\n",
       "</style>\n",
       "<table border=\"1\" class=\"dataframe\">\n",
       "  <thead>\n",
       "    <tr style=\"text-align: right;\">\n",
       "      <th></th>\n",
       "      <th>Nome</th>\n",
       "      <th>Popularidade</th>\n",
       "    </tr>\n",
       "  </thead>\n",
       "  <tbody>\n",
       "    <tr>\n",
       "      <th>0</th>\n",
       "      <td>Shingeki no Kyojin</td>\n",
       "      <td>1</td>\n",
       "    </tr>\n",
       "    <tr>\n",
       "      <th>1</th>\n",
       "      <td>Death Note</td>\n",
       "      <td>2</td>\n",
       "    </tr>\n",
       "    <tr>\n",
       "      <th>2</th>\n",
       "      <td>Fullmetal Alchemist: Brotherhood</td>\n",
       "      <td>3</td>\n",
       "    </tr>\n",
       "    <tr>\n",
       "      <th>3</th>\n",
       "      <td>One Punch Man</td>\n",
       "      <td>4</td>\n",
       "    </tr>\n",
       "    <tr>\n",
       "      <th>4</th>\n",
       "      <td>Sword Art Online</td>\n",
       "      <td>5</td>\n",
       "    </tr>\n",
       "    <tr>\n",
       "      <th>5</th>\n",
       "      <td>Boku no Hero Academia</td>\n",
       "      <td>6</td>\n",
       "    </tr>\n",
       "    <tr>\n",
       "      <th>6</th>\n",
       "      <td>Kimetsu no Yaiba</td>\n",
       "      <td>7</td>\n",
       "    </tr>\n",
       "    <tr>\n",
       "      <th>7</th>\n",
       "      <td>Naruto</td>\n",
       "      <td>8</td>\n",
       "    </tr>\n",
       "    <tr>\n",
       "      <th>8</th>\n",
       "      <td>Tokyo Ghoul</td>\n",
       "      <td>9</td>\n",
       "    </tr>\n",
       "    <tr>\n",
       "      <th>9</th>\n",
       "      <td>Hunter x Hunter (2011)</td>\n",
       "      <td>10</td>\n",
       "    </tr>\n",
       "  </tbody>\n",
       "</table>\n",
       "</div>"
      ],
      "text/plain": [
       "                               Nome  Popularidade\n",
       "0                Shingeki no Kyojin             1\n",
       "1                        Death Note             2\n",
       "2  Fullmetal Alchemist: Brotherhood             3\n",
       "3                     One Punch Man             4\n",
       "4                  Sword Art Online             5\n",
       "5             Boku no Hero Academia             6\n",
       "6                  Kimetsu no Yaiba             7\n",
       "7                            Naruto             8\n",
       "8                       Tokyo Ghoul             9\n",
       "9            Hunter x Hunter (2011)            10"
      ]
     },
     "execution_count": 353,
     "metadata": {},
     "output_type": "execute_result"
    }
   ],
   "source": [
    "dados1 = dados[['title', 'popularity']]\n",
    "dados1.rename(columns={'title': 'Nome', 'popularity': 'Popularidade'}, inplace=True)\n",
    "dados1 = dados1.sort_values(by='Popularidade', ascending=True)\n",
    "dados1 = dados1.head(10)\n",
    "\n",
    "# Remover a indexação anterior e redefinir a indexação sequencial\n",
    "dados1.reset_index(drop=True, inplace=True)\n",
    "\n",
    "dados1"
   ]
  },
  {
   "cell_type": "markdown",
   "metadata": {},
   "source": [
    "### Animes mais favoritados"
   ]
  },
  {
   "cell_type": "code",
   "execution_count": 311,
   "metadata": {},
   "outputs": [
    {
     "data": {
      "image/png": "[encoded data removed]",
      "text/plain": [
       "<Figure size 1000x600 with 1 Axes>"
      ]
     },
     "metadata": {},
     "output_type": "display_data"
    }
   ],
   "source": [
    "dados2 = dados.sort_values(by='favorites', ascending=False)\n",
    "dados2 = dados2.head(10)\n",
    "# Definir o tamanho da figura\n",
    "plt.figure(figsize=(10, 6))\n",
    "\n",
    "sns.barplot(data=dados2, x='favorites', y = 'title', color='red', orient='h')\n",
    "plt.title(\"Animes Mais Favoritados\")\n",
    "plt.xlabel(\"Quantidade de votações como favorito\")\n",
    "plt.ylabel(\"Anime\")\n",
    "# Adicionar rótulos de dados\n",
    "for index, value in enumerate(dados2['favorites']):\n",
    "    plt.text(value, index, str(value), ha='right', va='center', color='White', fontweight='bold')"
   ]
  },
  {
   "cell_type": "markdown",
   "metadata": {},
   "source": [
    "### Animes com mais Membros no Site"
   ]
  },
  {
   "cell_type": "code",
   "execution_count": 312,
   "metadata": {},
   "outputs": [
    {
     "data": {
      "image/png": "[encoded data removed]",
      "text/plain": [
       "<Figure size 1000x600 with 1 Axes>"
      ]
     },
     "metadata": {},
     "output_type": "display_data"
    }
   ],
   "source": [
    "dados3 = dados.sort_values(by='members', ascending=False)\n",
    "dados3 = dados3.head(10)\n",
    "\n",
    "# Definir o tamanho da figura\n",
    "plt.figure(figsize=(10, 6))\n",
    "\n",
    "sns.barplot(data=dados3, x='members', y='title', color='red', orient='h')\n",
    "plt.title(\"Animes Com Mais Membros\")\n",
    "plt.xlabel(\"Quantidade de membros\")\n",
    "plt.ylabel(\"Anime\")\n",
    "\n",
    "# Adicionar rótulos de dados\n",
    "for index, value in enumerate(dados3['members']):\n",
    "    plt.text(value, index, str(value), ha='right', va='center', color='White', fontweight='bold')\n",
    "\n",
    "plt.show()\n"
   ]
  },
  {
   "cell_type": "markdown",
   "metadata": {},
   "source": [
    "### Média de Score de Anime por demographic"
   ]
  },
  {
   "cell_type": "code",
   "execution_count": 340,
   "metadata": {},
   "outputs": [
    {
     "data": {
      "image/png": "[encoded data removed]",
      "text/plain": [
       "<Figure size 800x500 with 1 Axes>"
      ]
     },
     "metadata": {},
     "output_type": "display_data"
    }
   ],
   "source": [
    "dados4 = dados.groupby('demographic')['score'].mean().reset_index()\n",
    "dados4 = dados4.sort_values(by='score', ascending=False)\n",
    "\n",
    "plt.figure(figsize=(8, 5))\n",
    "\n",
    "sns.barplot(data=dados4, x='score', y = 'demographic', color='red', orient='h')\n",
    "plt.title(\"Gênero de Anime por Média de Pontuação\")\n",
    "plt.xlabel(\"Média do Gênero\")\n",
    "plt.ylabel(\"Anime\")\n",
    "# Adicionar rótulos de dados\n",
    "for index, value in enumerate(dados4['score']):\n",
    "    plt.text(value, index, f'{value:.2f}', ha='right', va='center', color='white', fontweight='bold')\n",
    "\n",
    "plt.show()"
   ]
  },
  {
   "cell_type": "code",
   "execution_count": 342,
   "metadata": {},
   "outputs": [
    {
     "data": {
      "text/plain": [
       "title           object\n",
       "episodes         Int64\n",
       "status          object\n",
       "theme           object\n",
       "demographic     object\n",
       "genres          object\n",
       "type            object\n",
       "favorites        Int64\n",
       "popularity       Int64\n",
       "rank             Int64\n",
       "score          float64\n",
       "members          Int64\n",
       "synopsis        object\n",
       "aired           object\n",
       "duration         Int64\n",
       "premiered       object\n",
       "studios         object\n",
       "dtype: object"
      ]
     },
     "execution_count": 342,
     "metadata": {},
     "output_type": "execute_result"
    }
   ],
   "source": [
    "dados.dtypes"
   ]
  },
  {
   "cell_type": "code",
   "execution_count": 343,
   "metadata": {},
   "outputs": [
    {
     "data": {
      "text/plain": [
       "array(['Military', 'Unknown', 'School', 'Romantic Subtext', 'Vampire',\n",
       "       'Super Power', 'Historical', 'Mythology', 'Combat Sports',\n",
       "       'Anthropomorphic', 'Mecha', 'Childcare', 'Gore', 'Organized Crime',\n",
       "       'Time Travel', 'Otaku Culture', 'CGDCT', 'Iyashikei',\n",
       "       'Martial Arts', 'Adult Cast', 'Visual Arts', 'Team Sports',\n",
       "       'Racing', 'Detective', 'Music', 'Psychological', 'Survival',\n",
       "       'Mahou Shoujo', 'Isekai', 'Performing Arts', 'Video Game',\n",
       "       'Showbiz', 'Workplace', 'Delinquents', 'Love Polygon',\n",
       "       'Strategy Game', 'Space', 'Parody', 'Idols (Female)', 'Gag Humor',\n",
       "       'Reverse Harem', 'Pets', 'Harem', 'Magical Sex Shift', 'Medical',\n",
       "       'Crossdressing', 'Reincarnation', 'Idols (Male)', 'Samurai',\n",
       "       'Educational', 'High Stakes Game'], dtype=object)"
      ]
     },
     "execution_count": 343,
     "metadata": {},
     "output_type": "execute_result"
    }
   ],
   "source": [
    "dados['theme'].unique()"
   ]
  }
 ],
 "metadata": {
  "kernelspec": {
   "display_name": "base",
   "language": "python",
   "name": "python3"
  },
  "language_info": {
   "codemirror_mode": {
    "name": "ipython",
    "version": 3
   },
   "file_extension": ".py",
   "mimetype": "text/x-python",
   "name": "python",
   "nbconvert_exporter": "python",
   "pygments_lexer": "ipython3",
   "version": "3.10.9"
  },
  "orig_nbformat": 4
 },
 "nbformat": 4,
 "nbformat_minor": 2
}
